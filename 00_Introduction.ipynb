{
 "cells": [
  {
   "cell_type": "markdown",
   "metadata": {},
   "source": [
    "## 📋 Step 1: Environment Setup\n",
    "\n",
    "First, let's make sure all required packages are installed and import our utilities."
   ]
  },
  {
   "cell_type": "code",
   "execution_count": 2,
   "metadata": {},
   "outputs": [
    {
     "name": "stdout",
     "output_type": "stream",
     "text": [
      "✅ All packages imported successfully!\n"
     ]
    }
   ],
   "source": [
    "# Install required packages (run this if you haven't installed requirements.txt)\n",
    "# !pip install -r requirements.txt\n",
    "\n",
    "# Import necessary libraries\n",
    "import os\n",
    "import pandas as pd\n",
    "import plotly.graph_objects as go\n",
    "from IPython.display import display, HTML, Markdown\n",
    "import warnings\n",
    "warnings.filterwarnings('ignore')\n",
    "\n",
    "# Import our custom utilities\n",
    "from utils import BirdeyeDataServices, check_api_key, display_token_info\n",
    "\n",
    "print(\"✅ All packages imported successfully!\")"
   ]
  },
  {
   "cell_type": "markdown",
   "metadata": {},
   "source": [
    "## 🔑 Step 2: Create Your BDS Account & API Key\n",
    "\n",
    "### Creating Your Account\n",
    "\n",
    "1. **Visit the Birdeye Documentation**: [bds.birdeye.so](https://bds.birdeye.so)\n",
    "\n",
    "2. **Sign Up for Free Account**:\n",
    "\n",
    "3. **Generate API Key**:\n",
    "   - Log into your Birdeye dashboard\n",
    "   - Navigate to API Keys section [https://bds.birdeye.so/user/security](https://bds.birdeye.so/user/security)\n",
    "   - Click \"Generate key\"\n",
    "   - Copy your API key (keep it secure!)\n",
    "\n",
    "### 🔒 Security Best Practices\n",
    "\n",
    "- **Never commit API keys to version control**\n",
    "- **Use environment variables** to store sensitive data\n",
    "- **Regenerate keys** if compromised\n",
    "\n",
    "### Setting Up Your API Key\n",
    "\n",
    "Create a `.env` file in your project directory with your API key:\n"
   ]
  },
  {
   "cell_type": "code",
   "execution_count": 3,
   "metadata": {},
   "outputs": [
    {
     "name": "stdout",
     "output_type": "stream",
     "text": [
      "✅ .env file found!\n"
     ]
    }
   ],
   "source": [
    "# Check if .env file exists\n",
    "if os.path.exists('.env'):\n",
    "    print(\"✅ .env file found!\")\n",
    "else:\n",
    "    print(\"❌ .env file not found!\")\n",
    "    print(\"Please create a .env file with the following content:\")\n",
    "    print(\"\")\n",
    "    print(\"BIRDEYE_API_KEY=your_api_key_here\")\n",
    "    print(\"\")\n",
    "    print(\"Replace 'your_api_key_here' with your actual API key from Birdeye.\")"
   ]
  },
  {
   "cell_type": "markdown",
   "metadata": {},
   "source": [
    "## ✅ Step 3: Test Your API Connection\n",
    "\n",
    "Let's verify that your API key is working correctly:"
   ]
  },
  {
   "cell_type": "markdown",
   "metadata": {},
   "source": [
    "# Welcome to the Birdeye Data Services Workshop\n",
    "\n",
    "## Building Powerful Blockchain Data Applications\n",
    "\n",
    "Welcome to this hands-on workshop where you'll learn to build professional blockchain data applications using Birdeye Data Services' comprehensive APIs and WebSocket services.\n",
    "\n",
    "### What You'll Build Today\n",
    "\n",
    "1. **Token Information Dashboard** - Query newly listed tokens, fetch prices, metadata, and create static historical price charts\n",
    "2. **Wallet Portfolio Manager** - Track net worth, analyze holdings, and implement real-time updates\n",
    "\n",
    "### 🛠 Prerequisites\n",
    "\n",
    "- Basic Python knowledge\n",
    "- Jupyter Notebook environment\n",
    "- Internet connection for API calls\n",
    "\n",
    "Let's get started! "
   ]
  },
  {
   "cell_type": "code",
   "execution_count": 4,
   "metadata": {},
   "outputs": [
    {
     "name": "stdout",
     "output_type": "stream",
     "text": [
      "✅ API key found!\n",
      "✅ Birdeye Data Services client initialized successfully!\n",
      "\n",
      "🔍 Testing API connection...\n",
      "✅ API connection successful!\n",
      "📊 Current SOL price: $195.90\n"
     ]
    }
   ],
   "source": [
    "# Check API key configuration\n",
    "if check_api_key():\n",
    "    # Initialize Birdeye Data Services client\n",
    "    try:\n",
    "        birdeye = BirdeyeDataServices()\n",
    "        print(\"✅ Birdeye Data Services client initialized successfully!\")\n",
    "        \n",
    "        # Test API connection with a simple request\n",
    "        print(\"\\n🔍 Testing API connection...\")\n",
    "        \n",
    "        # Get Solana price as a test (SOL token address)\n",
    "        sol_address = \"So11111111111111111111111111111111111111112\"\n",
    "        test_response = birdeye.get_token_price(sol_address)\n",
    "        \n",
    "        if test_response and 'data' in test_response:\n",
    "            sol_price = test_response['data']['value']\n",
    "            print(f\"✅ API connection successful!\")\n",
    "            print(f\"📊 Current SOL price: ${sol_price:.2f}\")\n",
    "        else:\n",
    "            print(\"❌ API connection failed. Please check your API key.\")\n",
    "            \n",
    "    except Exception as e:\n",
    "        print(f\"❌ Error initializing API client: {e}\")\n",
    "        print(\"Please check your API key in the .env file.\")\n",
    "else:\n",
    "    print(\"Please set up your API key first!\")"
   ]
  },
  {
   "cell_type": "markdown",
   "metadata": {},
   "source": [
    "## 📚 Step 4: Understanding Birdeye APIs\n",
    "\n",
    "### 🔗 Key API Endpoints We'll Use\n",
    "\n",
    "#### Token Information APIs:\n",
    "- **`/defi/v2/tokens/new_listing`** - Get newly listed tokens\n",
    "- **`/defi/price`** - Get current token price\n",
    "- **`/defi/token_overview`** - Get token stats\n",
    "- **`/defi/history_price`** - Get historical price data\n",
    "- **`/defi/v3/token/txs`** - Get recent transactions\n",
    "\n",
    "#### Wallet Portfolio APIs:\n",
    "- **`/wallet/v2/current-net-worth`** - Get current wallet net worth\n",
    "- **`/wallet/v2/net-worth`** - Get net worth history\n",
    "- **`/wallet/v2/net-worth-details`** - Get detailed token holdings\n",
    "- **`/defi/v3/ohlcv`** - Get OHLCV candlestick data\n",
    "\n",
    "#### WebSocket Subscriptions:\n",
    "- **`SUBSCRIBE_PRICE`** - Real-time price updates\n",
    "- **`SUBSCRIBE_TXS`** - Real-time transaction updates\n",
    "\n",
    "### 📖 Documentation Links\n",
    "\n",
    "- [API Reference](https://docs.birdeye.so/reference/get-defi-price)\n",
    "- [WebSocket Guide](https://docs.birdeye.so/docs/websocket)\n",
    "- [Subscribe Price WebSocket](https://docs.birdeye.so/docs/subscribe-price)\n",
    "- [Subscribe Transactions WebSocket](https://docs.birdeye.so/docs/subscribe_txs)"
   ]
  },
  {
   "cell_type": "markdown",
   "metadata": {},
   "source": [
    "## 🎯 Step 5: Quick API Demo\n",
    "\n",
    "Let's do a quick demonstration of the API capabilities:"
   ]
  },
  {
   "cell_type": "code",
   "execution_count": 8,
   "metadata": {},
   "outputs": [
    {
     "name": "stdout",
     "output_type": "stream",
     "text": [
      "🔍 Fetching newly listed tokens...\n",
      "\n",
      "📊 Found 5 newly listed tokens:\n",
      "------------------------------------------------------------\n",
      "1. RedBull Official Token (REDBULL) - 7be5qocdcUbuxtRG2FnSjxvNzqHoWoSvZhxAfhQh2uLb\n",
      "2. Gates of Olympus (500X) - GmrGjQT9zwdwQh568J4PfvpcVSv4JPcGRUuMeG7PqQ5V\n",
      "3. Telegram Messenger (Telegram) - E9MNitWzi7FEZqdzbxbBeu44SVtkqzdL15nZXFBL8DrR\n",
      "4. Digital Flatulence Synthesizer (DFS) - AQikDmjrLyr7vNxom8bFpjfipfPsoYsGTDZQv1279nVu\n",
      "5. TikTok (TikTok) - 4k5R8BwMDHi9LQ8FYbrGoxMXX1KbqiArPqzFGHgPcGp6\n",
      "\n",
      "✅ API is working perfectly! Ready for the workshop.\n"
     ]
    }
   ],
   "source": [
    "# Quick demo: Get some newly listed tokens\n",
    "if 'birdeye' in locals():\n",
    "    print(\"🔍 Fetching newly listed tokens...\")\n",
    "    new_listings = birdeye.get_new_listings(limit=5)\n",
    "    \n",
    "    if new_listings and 'data' in new_listings:\n",
    "        tokens_count = len(new_listings['data']['items'])\n",
    "        print(f\"\\n📊 Found {tokens_count} newly listed tokens:\")\n",
    "        print(\"-\" * 60)\n",
    "        \n",
    "        for i, token in enumerate(new_listings['data']['items'][:tokens_count], 1):\n",
    "            name = token.get('name', 'Unknown')\n",
    "            symbol = token.get('symbol')\n",
    "            address = token.get('address')\n",
    "            print(f\"{i}. {name} ({symbol}) - {address}\")\n",
    "        \n",
    "        print(\"\\n✅ API is working perfectly! Ready for the workshop.\")\n",
    "    else:\n",
    "        print(\"❌ Could not fetch new listings. Please check your API key.\")\n",
    "else:\n",
    "    print(\"Please run the API connection test first!\")"
   ]
  },
  {
   "cell_type": "markdown",
   "metadata": {},
   "source": [
    "## 🎉 You're All Set!\n",
    "\n",
    "Congratulations! Your environment is now configured and ready for the workshop.\n",
    "\n",
    "### 📋 What's Next?\n",
    "\n",
    "1. **Section 1**: `01_Token_Information.ipynb` - Build a token information dashboard\n",
    "2. **Section 2**: `02_Wallet_Portfolio.ipynb` - Create a wallet portfolio manager\n",
    "\n",
    "### 🔧 Troubleshooting\n",
    "\n",
    "If you encounter any issues:\n",
    "\n",
    "1. **API Key Issues**:\n",
    "   - Verify your `.env` file exists and contains the correct API key\n",
    "   - Check that your API key is active in the Birdeye dashboard\n",
    "\n",
    "2. **Package Issues**:\n",
    "   - Run `pip install -r requirements.txt` to install dependencies\n",
    "   - Restart your Jupyter kernel if needed\n",
    "\n",
    "3. **Connection Issues**:\n",
    "   - Check your internet connection\n",
    "   - Verify Birdeye API status\n",
    "\n",
    "### 🚀 Ready to Build!\n",
    "\n",
    "You now have everything you need to start building powerful blockchain data applications with Birdeye APIs. Let's move on to the first section and start building!\n",
    "\n",
    "**Next**: Open `01_Token_Information.ipynb` to begin Section 1."
   ]
  }
 ],
 "metadata": {
  "kernelspec": {
   "display_name": "Python 3 (ipykernel)",
   "language": "python",
   "name": "python3"
  },
  "language_info": {
   "codemirror_mode": {
    "name": "ipython",
    "version": 3
   },
   "file_extension": ".py",
   "mimetype": "text/x-python",
   "name": "python",
   "nbconvert_exporter": "python",
   "pygments_lexer": "ipython3",
   "version": "3.13.6"
  }
 },
 "nbformat": 4,
 "nbformat_minor": 4
}

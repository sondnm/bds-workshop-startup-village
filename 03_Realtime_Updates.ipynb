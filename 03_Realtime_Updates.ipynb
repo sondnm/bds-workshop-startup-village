{
 "cells": [
  {
   "cell_type": "markdown",
   "metadata": {},
   "source": [
    "# Section 3: Real-time Token Updates\n",
    "- **`SUBSCRIBE_OHLCV`** - Real-time OHLCV candlestick updates\n",
    "- **`SUBSCRIBE_TXS`** - Real-time Transaction updates\n",
    "- **`SUBSCRIBE_TOKEN_STATS`** - Real-time token statistics updates\n",
    "\n",
    "Let's build real-time monitoring systems for blockchain data!"
   ]
  },
  {
   "cell_type": "markdown",
   "metadata": {},
   "source": [
    "## Setup and Imports\n",
    "\n",
    "**Important**: This section requires a **Business API Key** from Birdeye Data Services for WebSocket features.\n",
    "\n",
    "### Getting Your Business API Key\n",
    "\n",
    "The real-time WebSocket features require access to premium endpoints that are only available with a Business package. Your workshop host will provide you with a Business API key.\n",
    "\n",
    "**Add the Business API key to your .env file:**\n",
    "```\n",
    "BDS_API_KEY=your_business_api_key_here\n",
    "```\n",
    "\n",
    "If you don't have a Business API key, you can:\n",
    "1. Contact your workshop host for a temporary key\n",
    "2. Sign up for a Business plan at [Birdeye Data Services](https://bds.birdeye.so)\n",
    "3. Continue with the demo to see how the features work"
   ]
  },
  {
   "cell_type": "code",
   "execution_count": 16,
   "metadata": {},
   "outputs": [
    {
     "name": "stdout",
     "output_type": "stream",
     "text": [
      "All modules imported successfully for real-time updates!\n",
      "✅ BDS_API_KEY found!\n",
      "Setup complete! Ready for real-time blockchain data monitoring.\n"
     ]
    }
   ],
   "source": [
    "# Import required libraries\n",
    "import pandas as pd\n",
    "import plotly.graph_objects as go\n",
    "import plotly.express as px\n",
    "from plotly.subplots import make_subplots\n",
    "from IPython.display import display, HTML, Markdown, clear_output\n",
    "import ipywidgets as widgets\n",
    "from datetime import datetime, timedelta\n",
    "import json\n",
    "import time\n",
    "import threading\n",
    "import warnings\n",
    "warnings.filterwarnings('ignore')\n",
    "\n",
    "# Force reload of utils module to ensure latest version\n",
    "import utils\n",
    "import importlib\n",
    "importlib.reload(utils)\n",
    "\n",
    "# Import our custom utilities\n",
    "from utils import (\n",
    "    BirdeyeDataServices, \n",
    "    BirdeyeDataServicesWebSocket,\n",
    "    create_portfolio_chart,\n",
    "    create_portfolio_pie_chart,\n",
    "    create_candlestick_chart,\n",
    "    format_currency,\n",
    "    format_transaction_data,\n",
    "    check_api_key\n",
    ")\n",
    "\n",
    "print(\"All modules imported successfully for real-time updates!\")\n",
    "\n",
    "# Check Business API key and initialize client\n",
    "if check_api_key('business'):\n",
    "    # Initialize Birdeye Data Services client with Business API key\n",
    "    birdeye = BirdeyeDataServices(api_key_type='business')\n",
    "    print(\"Setup complete! Ready for real-time blockchain data monitoring.\")\n",
    "else:\n",
    "    print(\"Please configure BDS_API_KEY in your .env file\")\n",
    "    print(\"Contact your workshop host for a Business API key\")"
   ]
  },
  {
   "cell_type": "markdown",
   "metadata": {},
   "source": [
    "### Troubleshooting Note\n",
    "\n",
    "**If you encounter import errors:**\n",
    "1. **Restart the kernel**: Go to `Kernel` → `Restart` in the menu\n",
    "2. **Re-run the import cell above**\n",
    "3. **Clear browser cache** if the issue persists\n",
    "\n",
    "The functions exist in `utils.py` and the reload code above should resolve any caching issues."
   ]
  },
  {
   "cell_type": "markdown",
   "metadata": {},
   "source": [
    "## Step 1: Interactive OHLCV Charts\n",
    "\n",
    "Let's start with interactive OHLCV charts for detailed price analysis:"
   ]
  },
  {
   "cell_type": "code",
   "execution_count": 17,
   "metadata": {},
   "outputs": [
    {
     "name": "stdout",
     "output_type": "stream",
     "text": [
      "Creating OHLCV chart for SOL...\n",
      "\n",
      "SOL OHLCV Chart:\n"
     ]
    },
    {
     "data": {
      "application/vnd.plotly.v1+json": {
       "config": {
        "plotlyServerURL": "https://plot.ly"
       },
       "data": [
        {
         "close": {
          "bdata": "/+eK1P0kZkDukMQ4ObRmQEpJl9KReWhApMcDMIOlaUDGy69y269nQKpNtlSs32ZA0QARcEhYZ0CJZ+sh7h5nQJH7Sh0TlmdA/R35gh3iZkBSV/naQa5mQILn6n9DL2ZAPfauihCIZUCWQSEjDlRkQBagUwCQz2NABVqIwvg/ZEBsfudYLzFlQPO39XT3gWRAuLuMMioFZUDWfJ42j+xlQMuOqBY2GmZAy1iIqlOAZkCbFrdWetZmQAIa4VgH22VAPwxFmFT3Z0Dg57aTyjJpQOyq3O8AE2hANHTkmJs5Z0BA/up7k7ZnQM4C1NyzG2hA",
          "dtype": "f8"
         },
         "high": {
          "bdata": "yFd7UShVZkBaQDi5TQVnQNiBzq887mhANsB4BZKJakBH3EDqg8hpQAESPrxa/2dAMqzITeRjZ0DZuR6kfL5nQGWVcp792mdAmdxOGQZwaED8THl5ilhnQFu9m7321WZARQFHo93XZkAEOiVs1oplQHIApAizqmRAi54RNLFlZEBW7BfTj0BlQPRympmCd2VAhnfwDGdCZUBbl5vPSPZlQAlcyy0MdmZA49/ZP3zwZkCYPfBfzUdnQEPvtwkIXWdAoacwea86aEA1nwTgt6BpQLbyEUmqTGpA8aGfCEbKaECotCm0W8VnQHvOrvkufmhA",
          "dtype": "f8"
         },
         "low": {
          "bdata": "jFVrFeLDZUAjXLgEKQ1mQFVm+HKmSmZAVTaH/gI7aEAXBVR7tQBnQGTHY1l4aWZATM0Cmgv1ZUCtXgljYgdnQNN035+aDmdA3LUri1HBZkAibxlLXUZmQIuGb6wTTmVAg5gNPI5qZUDWno3KxeFjQAaXM6WodmNAdIF/w3CGY0Cmltn3uiVkQFmDpGtoJ2RAe3esw6gjZECNENR3vdFkQHpcZCctr2VA/WPF61MRZkAWYfZ+Ei1mQKxi96CJq2VAH19gh2qxZUAWoFhE0OhnQET9Y+gcZWdAbtHLUxPsZkDC4layhCZnQKUeTzQLbWdA",
          "dtype": "f8"
         },
         "name": "SOL",
         "open": {
          "bdata": "IT8SXyIpZkD/54rU/SRmQO6QxDg5tGZASkmX0pF5aECkxwMwg6VpQMbLr3Lbr2dAqk22VKzfZkDRABFwSFhnQIln6yHuHmdAkftKHROWZ0D9HfmCHeJmQFJX+dpBrmZAgufqf0MvZkA99q6KEIhlQJZBISMOVGRAFqBTAJDPY0AFWojC+D9kQGx+51gvMWVA87f1dPeBZEC4u4wyKgVlQNZ8njaP7GVAy46oFjYaZkDLWIiqU4BmQJsWt1Z61mZAAhrhWAfbZUA/DEWYVPdnQODntpPKMmlA7Krc7wATaEA0dOSYmzlnQED+6nuTtmdA",
          "dtype": "f8"
         },
         "type": "candlestick",
         "x": [
          "2025-07-19T00:00:00.000000000",
          "2025-07-20T00:00:00.000000000",
          "2025-07-21T00:00:00.000000000",
          "2025-07-22T00:00:00.000000000",
          "2025-07-23T00:00:00.000000000",
          "2025-07-24T00:00:00.000000000",
          "2025-07-25T00:00:00.000000000",
          "2025-07-26T00:00:00.000000000",
          "2025-07-27T00:00:00.000000000",
          "2025-07-28T00:00:00.000000000",
          "2025-07-29T00:00:00.000000000",
          "2025-07-30T00:00:00.000000000",
          "2025-07-31T00:00:00.000000000",
          "2025-08-01T00:00:00.000000000",
          "2025-08-02T00:00:00.000000000",
          "2025-08-03T00:00:00.000000000",
          "2025-08-04T00:00:00.000000000",
          "2025-08-05T00:00:00.000000000",
          "2025-08-06T00:00:00.000000000",
          "2025-08-07T00:00:00.000000000",
          "2025-08-08T00:00:00.000000000",
          "2025-08-09T00:00:00.000000000",
          "2025-08-10T00:00:00.000000000",
          "2025-08-11T00:00:00.000000000",
          "2025-08-12T00:00:00.000000000",
          "2025-08-13T00:00:00.000000000",
          "2025-08-14T00:00:00.000000000",
          "2025-08-15T00:00:00.000000000",
          "2025-08-16T00:00:00.000000000",
          "2025-08-17T00:00:00.000000000"
         ]
        }
       ],
       "layout": {
        "height": 500,
        "template": {
         "data": {
          "bar": [
           {
            "error_x": {
             "color": "#f2f5fa"
            },
            "error_y": {
             "color": "#f2f5fa"
            },
            "marker": {
             "line": {
              "color": "rgb(17,17,17)",
              "width": 0.5
             },
             "pattern": {
              "fillmode": "overlay",
              "size": 10,
              "solidity": 0.2
             }
            },
            "type": "bar"
           }
          ],
          "barpolar": [
           {
            "marker": {
             "line": {
              "color": "rgb(17,17,17)",
              "width": 0.5
             },
             "pattern": {
              "fillmode": "overlay",
              "size": 10,
              "solidity": 0.2
             }
            },
            "type": "barpolar"
           }
          ],
          "carpet": [
           {
            "aaxis": {
             "endlinecolor": "#A2B1C6",
             "gridcolor": "#506784",
             "linecolor": "#506784",
             "minorgridcolor": "#506784",
             "startlinecolor": "#A2B1C6"
            },
            "baxis": {
             "endlinecolor": "#A2B1C6",
             "gridcolor": "#506784",
             "linecolor": "#506784",
             "minorgridcolor": "#506784",
             "startlinecolor": "#A2B1C6"
            },
            "type": "carpet"
           }
          ],
          "choropleth": [
           {
            "colorbar": {
             "outlinewidth": 0,
             "ticks": ""
            },
            "type": "choropleth"
           }
          ],
          "contour": [
           {
            "colorbar": {
             "outlinewidth": 0,
             "ticks": ""
            },
            "colorscale": [
             [
              0,
              "#0d0887"
             ],
             [
              0.1111111111111111,
              "#46039f"
             ],
             [
              0.2222222222222222,
              "#7201a8"
             ],
             [
              0.3333333333333333,
              "#9c179e"
             ],
             [
              0.4444444444444444,
              "#bd3786"
             ],
             [
              0.5555555555555556,
              "#d8576b"
             ],
             [
              0.6666666666666666,
              "#ed7953"
             ],
             [
              0.7777777777777778,
              "#fb9f3a"
             ],
             [
              0.8888888888888888,
              "#fdca26"
             ],
             [
              1,
              "#f0f921"
             ]
            ],
            "type": "contour"
           }
          ],
          "contourcarpet": [
           {
            "colorbar": {
             "outlinewidth": 0,
             "ticks": ""
            },
            "type": "contourcarpet"
           }
          ],
          "heatmap": [
           {
            "colorbar": {
             "outlinewidth": 0,
             "ticks": ""
            },
            "colorscale": [
             [
              0,
              "#0d0887"
             ],
             [
              0.1111111111111111,
              "#46039f"
             ],
             [
              0.2222222222222222,
              "#7201a8"
             ],
             [
              0.3333333333333333,
              "#9c179e"
             ],
             [
              0.4444444444444444,
              "#bd3786"
             ],
             [
              0.5555555555555556,
              "#d8576b"
             ],
             [
              0.6666666666666666,
              "#ed7953"
             ],
             [
              0.7777777777777778,
              "#fb9f3a"
             ],
             [
              0.8888888888888888,
              "#fdca26"
             ],
             [
              1,
              "#f0f921"
             ]
            ],
            "type": "heatmap"
           }
          ],
          "histogram": [
           {
            "marker": {
             "pattern": {
              "fillmode": "overlay",
              "size": 10,
              "solidity": 0.2
             }
            },
            "type": "histogram"
           }
          ],
          "histogram2d": [
           {
            "colorbar": {
             "outlinewidth": 0,
             "ticks": ""
            },
            "colorscale": [
             [
              0,
              "#0d0887"
             ],
             [
              0.1111111111111111,
              "#46039f"
             ],
             [
              0.2222222222222222,
              "#7201a8"
             ],
             [
              0.3333333333333333,
              "#9c179e"
             ],
             [
              0.4444444444444444,
              "#bd3786"
             ],
             [
              0.5555555555555556,
              "#d8576b"
             ],
             [
              0.6666666666666666,
              "#ed7953"
             ],
             [
              0.7777777777777778,
              "#fb9f3a"
             ],
             [
              0.8888888888888888,
              "#fdca26"
             ],
             [
              1,
              "#f0f921"
             ]
            ],
            "type": "histogram2d"
           }
          ],
          "histogram2dcontour": [
           {
            "colorbar": {
             "outlinewidth": 0,
             "ticks": ""
            },
            "colorscale": [
             [
              0,
              "#0d0887"
             ],
             [
              0.1111111111111111,
              "#46039f"
             ],
             [
              0.2222222222222222,
              "#7201a8"
             ],
             [
              0.3333333333333333,
              "#9c179e"
             ],
             [
              0.4444444444444444,
              "#bd3786"
             ],
             [
              0.5555555555555556,
              "#d8576b"
             ],
             [
              0.6666666666666666,
              "#ed7953"
             ],
             [
              0.7777777777777778,
              "#fb9f3a"
             ],
             [
              0.8888888888888888,
              "#fdca26"
             ],
             [
              1,
              "#f0f921"
             ]
            ],
            "type": "histogram2dcontour"
           }
          ],
          "mesh3d": [
           {
            "colorbar": {
             "outlinewidth": 0,
             "ticks": ""
            },
            "type": "mesh3d"
           }
          ],
          "parcoords": [
           {
            "line": {
             "colorbar": {
              "outlinewidth": 0,
              "ticks": ""
             }
            },
            "type": "parcoords"
           }
          ],
          "pie": [
           {
            "automargin": true,
            "type": "pie"
           }
          ],
          "scatter": [
           {
            "marker": {
             "line": {
              "color": "#283442"
             }
            },
            "type": "scatter"
           }
          ],
          "scatter3d": [
           {
            "line": {
             "colorbar": {
              "outlinewidth": 0,
              "ticks": ""
             }
            },
            "marker": {
             "colorbar": {
              "outlinewidth": 0,
              "ticks": ""
             }
            },
            "type": "scatter3d"
           }
          ],
          "scattercarpet": [
           {
            "marker": {
             "colorbar": {
              "outlinewidth": 0,
              "ticks": ""
             }
            },
            "type": "scattercarpet"
           }
          ],
          "scattergeo": [
           {
            "marker": {
             "colorbar": {
              "outlinewidth": 0,
              "ticks": ""
             }
            },
            "type": "scattergeo"
           }
          ],
          "scattergl": [
           {
            "marker": {
             "line": {
              "color": "#283442"
             }
            },
            "type": "scattergl"
           }
          ],
          "scattermap": [
           {
            "marker": {
             "colorbar": {
              "outlinewidth": 0,
              "ticks": ""
             }
            },
            "type": "scattermap"
           }
          ],
          "scattermapbox": [
           {
            "marker": {
             "colorbar": {
              "outlinewidth": 0,
              "ticks": ""
             }
            },
            "type": "scattermapbox"
           }
          ],
          "scatterpolar": [
           {
            "marker": {
             "colorbar": {
              "outlinewidth": 0,
              "ticks": ""
             }
            },
            "type": "scatterpolar"
           }
          ],
          "scatterpolargl": [
           {
            "marker": {
             "colorbar": {
              "outlinewidth": 0,
              "ticks": ""
             }
            },
            "type": "scatterpolargl"
           }
          ],
          "scatterternary": [
           {
            "marker": {
             "colorbar": {
              "outlinewidth": 0,
              "ticks": ""
             }
            },
            "type": "scatterternary"
           }
          ],
          "surface": [
           {
            "colorbar": {
             "outlinewidth": 0,
             "ticks": ""
            },
            "colorscale": [
             [
              0,
              "#0d0887"
             ],
             [
              0.1111111111111111,
              "#46039f"
             ],
             [
              0.2222222222222222,
              "#7201a8"
             ],
             [
              0.3333333333333333,
              "#9c179e"
             ],
             [
              0.4444444444444444,
              "#bd3786"
             ],
             [
              0.5555555555555556,
              "#d8576b"
             ],
             [
              0.6666666666666666,
              "#ed7953"
             ],
             [
              0.7777777777777778,
              "#fb9f3a"
             ],
             [
              0.8888888888888888,
              "#fdca26"
             ],
             [
              1,
              "#f0f921"
             ]
            ],
            "type": "surface"
           }
          ],
          "table": [
           {
            "cells": {
             "fill": {
              "color": "#506784"
             },
             "line": {
              "color": "rgb(17,17,17)"
             }
            },
            "header": {
             "fill": {
              "color": "#2a3f5f"
             },
             "line": {
              "color": "rgb(17,17,17)"
             }
            },
            "type": "table"
           }
          ]
         },
         "layout": {
          "annotationdefaults": {
           "arrowcolor": "#f2f5fa",
           "arrowhead": 0,
           "arrowwidth": 1
          },
          "autotypenumbers": "strict",
          "coloraxis": {
           "colorbar": {
            "outlinewidth": 0,
            "ticks": ""
           }
          },
          "colorscale": {
           "diverging": [
            [
             0,
             "#8e0152"
            ],
            [
             0.1,
             "#c51b7d"
            ],
            [
             0.2,
             "#de77ae"
            ],
            [
             0.3,
             "#f1b6da"
            ],
            [
             0.4,
             "#fde0ef"
            ],
            [
             0.5,
             "#f7f7f7"
            ],
            [
             0.6,
             "#e6f5d0"
            ],
            [
             0.7,
             "#b8e186"
            ],
            [
             0.8,
             "#7fbc41"
            ],
            [
             0.9,
             "#4d9221"
            ],
            [
             1,
             "#276419"
            ]
           ],
           "sequential": [
            [
             0,
             "#0d0887"
            ],
            [
             0.1111111111111111,
             "#46039f"
            ],
            [
             0.2222222222222222,
             "#7201a8"
            ],
            [
             0.3333333333333333,
             "#9c179e"
            ],
            [
             0.4444444444444444,
             "#bd3786"
            ],
            [
             0.5555555555555556,
             "#d8576b"
            ],
            [
             0.6666666666666666,
             "#ed7953"
            ],
            [
             0.7777777777777778,
             "#fb9f3a"
            ],
            [
             0.8888888888888888,
             "#fdca26"
            ],
            [
             1,
             "#f0f921"
            ]
           ],
           "sequentialminus": [
            [
             0,
             "#0d0887"
            ],
            [
             0.1111111111111111,
             "#46039f"
            ],
            [
             0.2222222222222222,
             "#7201a8"
            ],
            [
             0.3333333333333333,
             "#9c179e"
            ],
            [
             0.4444444444444444,
             "#bd3786"
            ],
            [
             0.5555555555555556,
             "#d8576b"
            ],
            [
             0.6666666666666666,
             "#ed7953"
            ],
            [
             0.7777777777777778,
             "#fb9f3a"
            ],
            [
             0.8888888888888888,
             "#fdca26"
            ],
            [
             1,
             "#f0f921"
            ]
           ]
          },
          "colorway": [
           "#636efa",
           "#EF553B",
           "#00cc96",
           "#ab63fa",
           "#FFA15A",
           "#19d3f3",
           "#FF6692",
           "#B6E880",
           "#FF97FF",
           "#FECB52"
          ],
          "font": {
           "color": "#f2f5fa"
          },
          "geo": {
           "bgcolor": "rgb(17,17,17)",
           "lakecolor": "rgb(17,17,17)",
           "landcolor": "rgb(17,17,17)",
           "showlakes": true,
           "showland": true,
           "subunitcolor": "#506784"
          },
          "hoverlabel": {
           "align": "left"
          },
          "hovermode": "closest",
          "mapbox": {
           "style": "dark"
          },
          "paper_bgcolor": "rgb(17,17,17)",
          "plot_bgcolor": "rgb(17,17,17)",
          "polar": {
           "angularaxis": {
            "gridcolor": "#506784",
            "linecolor": "#506784",
            "ticks": ""
           },
           "bgcolor": "rgb(17,17,17)",
           "radialaxis": {
            "gridcolor": "#506784",
            "linecolor": "#506784",
            "ticks": ""
           }
          },
          "scene": {
           "xaxis": {
            "backgroundcolor": "rgb(17,17,17)",
            "gridcolor": "#506784",
            "gridwidth": 2,
            "linecolor": "#506784",
            "showbackground": true,
            "ticks": "",
            "zerolinecolor": "#C8D4E3"
           },
           "yaxis": {
            "backgroundcolor": "rgb(17,17,17)",
            "gridcolor": "#506784",
            "gridwidth": 2,
            "linecolor": "#506784",
            "showbackground": true,
            "ticks": "",
            "zerolinecolor": "#C8D4E3"
           },
           "zaxis": {
            "backgroundcolor": "rgb(17,17,17)",
            "gridcolor": "#506784",
            "gridwidth": 2,
            "linecolor": "#506784",
            "showbackground": true,
            "ticks": "",
            "zerolinecolor": "#C8D4E3"
           }
          },
          "shapedefaults": {
           "line": {
            "color": "#f2f5fa"
           }
          },
          "sliderdefaults": {
           "bgcolor": "#C8D4E3",
           "bordercolor": "rgb(17,17,17)",
           "borderwidth": 1,
           "tickwidth": 0
          },
          "ternary": {
           "aaxis": {
            "gridcolor": "#506784",
            "linecolor": "#506784",
            "ticks": ""
           },
           "baxis": {
            "gridcolor": "#506784",
            "linecolor": "#506784",
            "ticks": ""
           },
           "bgcolor": "rgb(17,17,17)",
           "caxis": {
            "gridcolor": "#506784",
            "linecolor": "#506784",
            "ticks": ""
           }
          },
          "title": {
           "x": 0.05
          },
          "updatemenudefaults": {
           "bgcolor": "#506784",
           "borderwidth": 0
          },
          "xaxis": {
           "automargin": true,
           "gridcolor": "#283442",
           "linecolor": "#506784",
           "ticks": "",
           "title": {
            "standoff": 15
           },
           "zerolinecolor": "#283442",
           "zerolinewidth": 2
          },
          "yaxis": {
           "automargin": true,
           "gridcolor": "#283442",
           "linecolor": "#506784",
           "ticks": "",
           "title": {
            "standoff": 15
           },
           "zerolinecolor": "#283442",
           "zerolinewidth": 2
          }
         }
        },
        "title": {
         "text": "SOL OHLCV Chart"
        },
        "xaxis": {
         "title": {
          "text": "Time"
         }
        },
        "yaxis": {
         "title": {
          "text": "Price (USD)"
         }
        }
       }
      },
      "image/png": "[encoded data removed]"
     },
     "metadata": {},
     "output_type": "display_data"
    },
    {
     "name": "stdout",
     "output_type": "stream",
     "text": [
      "\n",
      "Chart Features:\n",
      "   Green candles: Price increased (Close > Open)\n",
      "   Red candles: Price decreased (Close < Open)\n",
      "   Volume bars: Trading activity\n",
      "   Interactive: Zoom, pan, and hover for details\n",
      "\n",
      "============================================================\n",
      "Interactive Controls:\n"
     ]
    },
    {
     "data": {
      "application/vnd.jupyter.widget-view+json": {
       "model_id": "9254f94c2e574b20b95b72fc32b455aa",
       "version_major": 2,
       "version_minor": 0
      },
      "text/plain": [
       "VBox(children=(Checkbox(value=False, description='Use custom token address', style=CheckboxStyle(description_w…"
      ]
     },
     "metadata": {},
     "output_type": "display_data"
    }
   ],
   "source": [
    "# Step 1: Interactive OHLCV Charts\n",
    "def create_interactive_ohlcv_chart(token_address=None, token_symbol=\"Token\"):\n",
    "    if not token_address:\n",
    "        token_address = \"So11111111111111111111111111111111111111112\"  # Default to SOL\n",
    "        token_symbol = \"SOL\"\n",
    "    \n",
    "    print(f\"Creating OHLCV chart for {token_symbol}...\")\n",
    "    \n",
    "    ohlcv_data = birdeye.get_ohlcv_data(token_address, type_=\"1D\")\n",
    "    \n",
    "    if ohlcv_data:\n",
    "        candlestick_chart = create_candlestick_chart(ohlcv_data, token_symbol)\n",
    "        \n",
    "        if candlestick_chart:\n",
    "            print(f\"\\n{token_symbol} OHLCV Chart:\")\n",
    "            candlestick_chart.show()\n",
    "            \n",
    "            print(\"\\nChart Features:\")\n",
    "            print(\"   Green candles: Price increased (Close > Open)\")\n",
    "            print(\"   Red candles: Price decreased (Close < Open)\")\n",
    "            print(\"   Volume bars: Trading activity\")\n",
    "            print(\"   Interactive: Zoom, pan, and hover for details\")\n",
    "        else:\n",
    "            print(\"Could not create chart\")\n",
    "    else:\n",
    "        print(\"Could not fetch OHLCV data\")\n",
    "\n",
    "# Interactive controls for Step 1\n",
    "step1_checkbox = widgets.Checkbox(\n",
    "    value=False,\n",
    "    description='Use custom token address',\n",
    "    style={'description_width': 'initial'}\n",
    ")\n",
    "\n",
    "step1_token_input = widgets.Text(\n",
    "    value='',\n",
    "    placeholder='Enter token address',\n",
    "    description='Token:',\n",
    "    style={'description_width': 'initial'},\n",
    "    layout=widgets.Layout(width='500px')\n",
    ")\n",
    "\n",
    "step1_symbol_input = widgets.Text(\n",
    "    value='',\n",
    "    placeholder='Enter token symbol (e.g., USDC)',\n",
    "    description='Symbol:',\n",
    "    style={'description_width': 'initial'},\n",
    "    layout=widgets.Layout(width='200px')\n",
    ")\n",
    "\n",
    "step1_button = widgets.Button(\n",
    "    description='Create OHLCV Chart',\n",
    "    button_style='success',\n",
    "    tooltip='Create candlestick chart'\n",
    ")\n",
    "\n",
    "step1_output = widgets.Output()\n",
    "\n",
    "def on_step1_button_click(b):\n",
    "    with step1_output:\n",
    "        clear_output(wait=True)\n",
    "        if step1_checkbox.value and step1_token_input.value.strip():\n",
    "            symbol = step1_symbol_input.value.strip() or \"Token\"\n",
    "            create_interactive_ohlcv_chart(step1_token_input.value.strip(), symbol)\n",
    "        else:\n",
    "            create_interactive_ohlcv_chart()\n",
    "\n",
    "step1_button.on_click(on_step1_button_click)\n",
    "\n",
    "# Initial execution\n",
    "create_interactive_ohlcv_chart()\n",
    "\n",
    "# Display interactive controls\n",
    "print(\"\\n\" + \"=\"*60)\n",
    "print(\"Interactive Controls:\")\n",
    "display(widgets.VBox([\n",
    "    step1_checkbox,\n",
    "    widgets.HBox([step1_token_input, step1_symbol_input]),\n",
    "    step1_button,\n",
    "    step1_output\n",
    "]))"
   ]
  },
  {
   "cell_type": "markdown",
   "metadata": {},
   "source": [
    "## Step 2: Real-time token chart Updates\n",
    "\n",
    "Let's implement real-time token chart updates using WebSocket connections:"
   ]
  },
  {
   "cell_type": "code",
   "execution_count": null,
   "metadata": {},
   "outputs": [
    {
     "name": "stdout",
     "output_type": "stream",
     "text": [
      "\n",
      "============================================================\n",
      "🚀 Professional TradingView Chart Generator:\n",
      "Generate standalone HTML charts with real-time OHLCV updates!\n"
     ]
    },
    {
     "data": {
      "application/vnd.jupyter.widget-view+json": {
       "model_id": "4f34209ccbb045349c24e315cd035ae2",
       "version_major": 2,
       "version_minor": 0
      },
      "text/plain": [
       "HBox(children=(Button(button_style='primary', description='📊 Generate Chart HTML', layout=Layout(height='50px'…"
      ]
     },
     "metadata": {},
     "output_type": "display_data"
    },
    {
     "data": {
      "application/vnd.jupyter.widget-view+json": {
       "model_id": "92dadeca469748c7afe9a3c9e13eef6c",
       "version_major": 2,
       "version_minor": 0
      },
      "text/plain": [
       "Output()"
      ]
     },
     "metadata": {},
     "output_type": "display_data"
    }
   ],
   "source": [
    "# Professional TradingView Chart Generator\n",
    "import subprocess\n",
    "import webbrowser\n",
    "import os\n",
    "\n",
    "# Create output widget for chart operations\n",
    "chart_output = widgets.Output()\n",
    "\n",
    "# Button to generate HTML chart\n",
    "generate_chart_button = widgets.Button(\n",
    "    description='📊 Generate Chart HTML',\n",
    "    button_style='primary',\n",
    "    tooltip='Generate standalone HTML chart file',\n",
    "    layout=widgets.Layout(width='250px', height='50px')\n",
    ")\n",
    "\n",
    "# Button to view HTML chart\n",
    "view_chart_button = widgets.Button(\n",
    "    description='🌐 View Chart in Browser',\n",
    "    button_style='success',\n",
    "    tooltip='Open the generated HTML chart in browser',\n",
    "    layout=widgets.Layout(width='250px', height='50px')\n",
    ")\n",
    "\n",
    "def generate_chart_html(b):\n",
    "    with chart_output:\n",
    "        clear_output(wait=True)\n",
    "        print(\"📊 Generating TradingView Chart HTML...\")\n",
    "        print(\"=\"*50)\n",
    "        \n",
    "        # Check if the generator script exists\n",
    "        if not os.path.exists('generate-chart-html.js'):\n",
    "            print(\"❌ generate-chart-html.js not found!\")\n",
    "            print(\"Please make sure the Node.js files are in the current directory.\")\n",
    "            return\n",
    "        \n",
    "        try:\n",
    "            # Run the HTML generator\n",
    "            result = subprocess.run(['node', 'generate-chart-html.js'], \n",
    "                                  capture_output=True, text=True, timeout=30)\n",
    "            \n",
    "            if result.returncode == 0:\n",
    "                print(\"✅ HTML chart generated successfully!\")\n",
    "                print(\"📄 File: bds-realtime-chart.html\")\n",
    "                print(\"\\n🎯 Ready to view in browser!\")\n",
    "            else:\n",
    "                print(f\"❌ Generation failed: {result.stderr}\")\n",
    "                \n",
    "        except subprocess.TimeoutExpired:\n",
    "            print(\"❌ Generation timed out\")\n",
    "        except FileNotFoundError:\n",
    "            print(\"❌ Node.js not found. Please install Node.js first.\")\n",
    "        except Exception as e:\n",
    "            print(f\"❌ Error: {e}\")\n",
    "\n",
    "def view_chart_in_browser(b):\n",
    "    with chart_output:\n",
    "        print(\"\\n🌐 Opening chart in browser...\")\n",
    "        \n",
    "        # Check if HTML file exists\n",
    "        html_file = 'bds-realtime-chart.html'\n",
    "        if not os.path.exists(html_file):\n",
    "            print(\"❌ Chart HTML file not found!\")\n",
    "            print(\"Please generate the chart first by clicking 'Generate Chart HTML'\")\n",
    "            return\n",
    "        \n",
    "        try:\n",
    "            # Get absolute path\n",
    "            html_path = os.path.abspath(html_file)\n",
    "            \n",
    "            # Open in browser\n",
    "            webbrowser.open(f'file://{html_path}')\n",
    "            print(\"✅ Chart opened in browser!\")\n",
    "            print(\"\\n📋 Usage Instructions:\")\n",
    "            print(\"   1. Click 'Load Chart' to fetch historical OHLCV data\")\n",
    "            print(\"   2. Click 'Connect WebSocket' for real-time updates\")\n",
    "            print(\"   3. Enter different token addresses to monitor other tokens\")\n",
    "            print(\"   4. Select different timeframes for various chart intervals\")\n",
    "            \n",
    "        except Exception as e:\n",
    "            print(f\"❌ Error opening browser: {e}\")\n",
    "            print(f\"Please manually open: {os.path.abspath(html_file)}\")\n",
    "\n",
    "# Connect button functions\n",
    "generate_chart_button.on_click(generate_chart_html)\n",
    "view_chart_button.on_click(view_chart_in_browser)\n",
    "\n",
    "print(\"Generate standalone HTML charts with real-time OHLCV updates!\")\n",
    "display(widgets.HBox([generate_chart_button, view_chart_button]))\n",
    "display(chart_output)"
   ]
  },
  {
   "cell_type": "markdown",
   "metadata": {},
   "source": [
    "## Congratulations!\n",
    "\n",
    "You've successfully built a comprehensive real-time token monitoring system! Here's what you've accomplished:\n",
    "\n",
    "### What You've Built:\n",
    "- **Interactive OHLCV Charts**: Professional candlestick charts with custom token support\n",
    "- **Real-time OHLCV, token stats and transactionMonitoring**: Live candlestick chart for 1 or multiple tokens\n",
    "\n",
    "### Challenge Ideas:\n",
    "- Add real-time alerts and notifications\n",
    "- Implement custom trading signals\n",
    "- Create automated monitoring dashboards\n",
    "- Build multi-token comparison tools\n",
    "- Add historical data correlation analysis\n",
    "- Implement risk management monitoring\n",
    "\n",
    "### Workshop Complete!\n",
    "\n",
    "Great work! You're now ready to build the next generation of real-time blockchain applications!\n",
    "\n",
    "### Additional Resources:\n",
    "- [Birdeye API Documentation](https://docs.birdeye.so/reference)\n",
    "- [Birdeye WebSocket Documentation](https://docs.birdeye.so/docs/websocket)"
   ]
  }
 ],
 "metadata": {
  "kernelspec": {
   "display_name": "Python 3 (ipykernel)",
   "language": "python",
   "name": "python3"
  },
  "language_info": {
   "codemirror_mode": {
    "name": "ipython",
    "version": 3
   },
   "file_extension": ".py",
   "mimetype": "text/x-python",
   "name": "python",
   "nbconvert_exporter": "python",
   "pygments_lexer": "ipython3",
   "version": "3.12.4"
  }
 },
 "nbformat": 4,
 "nbformat_minor": 4
}
